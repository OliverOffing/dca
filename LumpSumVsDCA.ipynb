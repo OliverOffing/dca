{
 "cells": [
  {
   "cell_type": "code",
   "execution_count": 1,
   "id": "8ea80474",
   "metadata": {},
   "outputs": [
    {
     "data": {
      "text/html": [
       "<div>\n",
       "<style scoped>\n",
       "    .dataframe tbody tr th:only-of-type {\n",
       "        vertical-align: middle;\n",
       "    }\n",
       "\n",
       "    .dataframe tbody tr th {\n",
       "        vertical-align: top;\n",
       "    }\n",
       "\n",
       "    .dataframe thead th {\n",
       "        text-align: right;\n",
       "    }\n",
       "</style>\n",
       "<table border=\"1\" class=\"dataframe\">\n",
       "  <thead>\n",
       "    <tr style=\"text-align: right;\">\n",
       "      <th></th>\n",
       "      <th>price_btc</th>\n",
       "    </tr>\n",
       "    <tr>\n",
       "      <th>date</th>\n",
       "      <th></th>\n",
       "    </tr>\n",
       "  </thead>\n",
       "  <tbody>\n",
       "    <tr>\n",
       "      <th>2017-01-01 00:02:33+00</th>\n",
       "      <td>973.370000</td>\n",
       "    </tr>\n",
       "    <tr>\n",
       "      <th>2017-01-02 00:06:51+00</th>\n",
       "      <td>992.960000</td>\n",
       "    </tr>\n",
       "    <tr>\n",
       "      <th>2017-01-03 00:03:31+00</th>\n",
       "      <td>1011.520000</td>\n",
       "    </tr>\n",
       "    <tr>\n",
       "      <th>2017-01-04 00:41:44+00</th>\n",
       "      <td>1020.690000</td>\n",
       "    </tr>\n",
       "    <tr>\n",
       "      <th>2017-01-05 00:02:01+00</th>\n",
       "      <td>1131.100000</td>\n",
       "    </tr>\n",
       "    <tr>\n",
       "      <th>...</th>\n",
       "      <td>...</td>\n",
       "    </tr>\n",
       "    <tr>\n",
       "      <th>2022-04-30 02:12:54+00</th>\n",
       "      <td>38592.270000</td>\n",
       "    </tr>\n",
       "    <tr>\n",
       "      <th>2022-05-01 01:36:58+00</th>\n",
       "      <td>37640.350000</td>\n",
       "    </tr>\n",
       "    <tr>\n",
       "      <th>2022-05-02 01:27:44+00</th>\n",
       "      <td>38469.490000</td>\n",
       "    </tr>\n",
       "    <tr>\n",
       "      <th>2022-05-03 01:28:47+00</th>\n",
       "      <td>38529.327801</td>\n",
       "    </tr>\n",
       "    <tr>\n",
       "      <th>2022-05-03 01:42:01+00</th>\n",
       "      <td>38510.880000</td>\n",
       "    </tr>\n",
       "  </tbody>\n",
       "</table>\n",
       "<p>2170 rows × 1 columns</p>\n",
       "</div>"
      ],
      "text/plain": [
       "                           price_btc\n",
       "date                                \n",
       "2017-01-01 00:02:33+00    973.370000\n",
       "2017-01-02 00:06:51+00    992.960000\n",
       "2017-01-03 00:03:31+00   1011.520000\n",
       "2017-01-04 00:41:44+00   1020.690000\n",
       "2017-01-05 00:02:01+00   1131.100000\n",
       "...                              ...\n",
       "2022-04-30 02:12:54+00  38592.270000\n",
       "2022-05-01 01:36:58+00  37640.350000\n",
       "2022-05-02 01:27:44+00  38469.490000\n",
       "2022-05-03 01:28:47+00  38529.327801\n",
       "2022-05-03 01:42:01+00  38510.880000\n",
       "\n",
       "[2170 rows x 1 columns]"
      ]
     },
     "execution_count": 1,
     "metadata": {},
     "output_type": "execute_result"
    }
   ],
   "source": [
    "from pandas.testing import assert_frame_equal\n",
    "import pandas as pd\n",
    "df = pd.read_csv('bitcoin.csv')\n",
    "df.drop(columns=['hashrate_btc', 'fee_total_btc', 'subsidy_btc'], inplace=True)\n",
    "df.set_index('date', inplace=True)\n",
    "df.drop_duplicates(inplace=True)\n",
    "df.reindex()"
   ]
  },
  {
   "cell_type": "code",
   "execution_count": 2,
   "id": "ab91b2aa",
   "metadata": {},
   "outputs": [],
   "source": [
    "AMOUNT = 1000 # The dollar amount to be invested, either at once using Lump Sum or over n periods using DCA"
   ]
  },
  {
   "cell_type": "code",
   "execution_count": 3,
   "id": "beffc5e4",
   "metadata": {},
   "outputs": [],
   "source": [
    "# This is an expanding backward moving average but with\n",
    "# weights being iteratively calculated, defined as \"amount/len(window)\"\n",
    "def iterative_expanding_backward_moving_average(values, amount):\n",
    "    data = (values[::-1]\n",
    "        .expanding(min_periods=1)\n",
    "        .apply(lambda window: (amount/len(window)/window).sum(), raw=False))\n",
    "    return data.reindex(index=data.index[::-1])\n",
    "\n",
    "amount = a = 3\n",
    "pd.testing.assert_series_equal(\n",
    "    iterative_expanding_backward_moving_average(pd.Series([1, 10, 100]), amount),\n",
    "    pd.Series([a/3/1+a/3/10+a/3/100, a/2/10+a/2/100, a/1/100]),\n",
    "    check_index=False,\n",
    "    check_names=False\n",
    ")"
   ]
  },
  {
   "cell_type": "code",
   "execution_count": 4,
   "id": "41715911",
   "metadata": {},
   "outputs": [
    {
     "data": {
      "text/html": [
       "<div>\n",
       "<style scoped>\n",
       "    .dataframe tbody tr th:only-of-type {\n",
       "        vertical-align: middle;\n",
       "    }\n",
       "\n",
       "    .dataframe tbody tr th {\n",
       "        vertical-align: top;\n",
       "    }\n",
       "\n",
       "    .dataframe thead th {\n",
       "        text-align: right;\n",
       "    }\n",
       "</style>\n",
       "<table border=\"1\" class=\"dataframe\">\n",
       "  <thead>\n",
       "    <tr style=\"text-align: right;\">\n",
       "      <th></th>\n",
       "      <th>price_btc</th>\n",
       "      <th>lump_sum</th>\n",
       "    </tr>\n",
       "    <tr>\n",
       "      <th>date</th>\n",
       "      <th></th>\n",
       "      <th></th>\n",
       "    </tr>\n",
       "  </thead>\n",
       "  <tbody>\n",
       "    <tr>\n",
       "      <th>2017-01-01 00:02:33+00</th>\n",
       "      <td>973.370000</td>\n",
       "      <td>1.027359</td>\n",
       "    </tr>\n",
       "    <tr>\n",
       "      <th>2017-01-02 00:06:51+00</th>\n",
       "      <td>992.960000</td>\n",
       "      <td>1.007090</td>\n",
       "    </tr>\n",
       "    <tr>\n",
       "      <th>2017-01-03 00:03:31+00</th>\n",
       "      <td>1011.520000</td>\n",
       "      <td>0.988611</td>\n",
       "    </tr>\n",
       "    <tr>\n",
       "      <th>2017-01-04 00:41:44+00</th>\n",
       "      <td>1020.690000</td>\n",
       "      <td>0.979729</td>\n",
       "    </tr>\n",
       "    <tr>\n",
       "      <th>2017-01-05 00:02:01+00</th>\n",
       "      <td>1131.100000</td>\n",
       "      <td>0.884095</td>\n",
       "    </tr>\n",
       "    <tr>\n",
       "      <th>...</th>\n",
       "      <td>...</td>\n",
       "      <td>...</td>\n",
       "    </tr>\n",
       "    <tr>\n",
       "      <th>2022-04-30 02:12:54+00</th>\n",
       "      <td>38592.270000</td>\n",
       "      <td>0.025912</td>\n",
       "    </tr>\n",
       "    <tr>\n",
       "      <th>2022-05-01 01:36:58+00</th>\n",
       "      <td>37640.350000</td>\n",
       "      <td>0.026567</td>\n",
       "    </tr>\n",
       "    <tr>\n",
       "      <th>2022-05-02 01:27:44+00</th>\n",
       "      <td>38469.490000</td>\n",
       "      <td>0.025995</td>\n",
       "    </tr>\n",
       "    <tr>\n",
       "      <th>2022-05-03 01:28:47+00</th>\n",
       "      <td>38529.327801</td>\n",
       "      <td>0.025954</td>\n",
       "    </tr>\n",
       "    <tr>\n",
       "      <th>2022-05-03 01:42:01+00</th>\n",
       "      <td>38510.880000</td>\n",
       "      <td>0.025967</td>\n",
       "    </tr>\n",
       "  </tbody>\n",
       "</table>\n",
       "<p>2170 rows × 2 columns</p>\n",
       "</div>"
      ],
      "text/plain": [
       "                           price_btc  lump_sum\n",
       "date                                          \n",
       "2017-01-01 00:02:33+00    973.370000  1.027359\n",
       "2017-01-02 00:06:51+00    992.960000  1.007090\n",
       "2017-01-03 00:03:31+00   1011.520000  0.988611\n",
       "2017-01-04 00:41:44+00   1020.690000  0.979729\n",
       "2017-01-05 00:02:01+00   1131.100000  0.884095\n",
       "...                              ...       ...\n",
       "2022-04-30 02:12:54+00  38592.270000  0.025912\n",
       "2022-05-01 01:36:58+00  37640.350000  0.026567\n",
       "2022-05-02 01:27:44+00  38469.490000  0.025995\n",
       "2022-05-03 01:28:47+00  38529.327801  0.025954\n",
       "2022-05-03 01:42:01+00  38510.880000  0.025967\n",
       "\n",
       "[2170 rows x 2 columns]"
      ]
     },
     "execution_count": 4,
     "metadata": {},
     "output_type": "execute_result"
    }
   ],
   "source": [
    "df['lump_sum'] = AMOUNT / df['price_btc']\n",
    "df"
   ]
  },
  {
   "cell_type": "code",
   "execution_count": 5,
   "id": "3bb1db71",
   "metadata": {
    "scrolled": true
   },
   "outputs": [],
   "source": [
    "df['dca'] = iterative_expanding_backward_moving_average(df['price_btc'], AMOUNT)"
   ]
  },
  {
   "cell_type": "code",
   "execution_count": 6,
   "id": "41609302",
   "metadata": {},
   "outputs": [
    {
     "data": {
      "text/html": [
       "<div>\n",
       "<style scoped>\n",
       "    .dataframe tbody tr th:only-of-type {\n",
       "        vertical-align: middle;\n",
       "    }\n",
       "\n",
       "    .dataframe tbody tr th {\n",
       "        vertical-align: top;\n",
       "    }\n",
       "\n",
       "    .dataframe thead th {\n",
       "        text-align: right;\n",
       "    }\n",
       "</style>\n",
       "<table border=\"1\" class=\"dataframe\">\n",
       "  <thead>\n",
       "    <tr style=\"text-align: right;\">\n",
       "      <th></th>\n",
       "      <th>price_btc</th>\n",
       "      <th>lump_sum</th>\n",
       "      <th>dca</th>\n",
       "    </tr>\n",
       "    <tr>\n",
       "      <th>date</th>\n",
       "      <th></th>\n",
       "      <th></th>\n",
       "      <th></th>\n",
       "    </tr>\n",
       "  </thead>\n",
       "  <tbody>\n",
       "    <tr>\n",
       "      <th>2017-01-01 00:02:33+00</th>\n",
       "      <td>973.370000</td>\n",
       "      <td>1.027359</td>\n",
       "      <td>0.166591</td>\n",
       "    </tr>\n",
       "    <tr>\n",
       "      <th>2017-01-02 00:06:51+00</th>\n",
       "      <td>992.960000</td>\n",
       "      <td>1.007090</td>\n",
       "      <td>0.166194</td>\n",
       "    </tr>\n",
       "    <tr>\n",
       "      <th>2017-01-03 00:03:31+00</th>\n",
       "      <td>1011.520000</td>\n",
       "      <td>0.988611</td>\n",
       "      <td>0.165807</td>\n",
       "    </tr>\n",
       "    <tr>\n",
       "      <th>2017-01-04 00:41:44+00</th>\n",
       "      <td>1020.690000</td>\n",
       "      <td>0.979729</td>\n",
       "      <td>0.165427</td>\n",
       "    </tr>\n",
       "    <tr>\n",
       "      <th>2017-01-05 00:02:01+00</th>\n",
       "      <td>1131.100000</td>\n",
       "      <td>0.884095</td>\n",
       "      <td>0.165051</td>\n",
       "    </tr>\n",
       "    <tr>\n",
       "      <th>...</th>\n",
       "      <td>...</td>\n",
       "      <td>...</td>\n",
       "      <td>...</td>\n",
       "    </tr>\n",
       "    <tr>\n",
       "      <th>2022-04-30 02:12:54+00</th>\n",
       "      <td>38592.270000</td>\n",
       "      <td>0.025912</td>\n",
       "      <td>0.026079</td>\n",
       "    </tr>\n",
       "    <tr>\n",
       "      <th>2022-05-01 01:36:58+00</th>\n",
       "      <td>37640.350000</td>\n",
       "      <td>0.026567</td>\n",
       "      <td>0.026121</td>\n",
       "    </tr>\n",
       "    <tr>\n",
       "      <th>2022-05-02 01:27:44+00</th>\n",
       "      <td>38469.490000</td>\n",
       "      <td>0.025995</td>\n",
       "      <td>0.025972</td>\n",
       "    </tr>\n",
       "    <tr>\n",
       "      <th>2022-05-03 01:28:47+00</th>\n",
       "      <td>38529.327801</td>\n",
       "      <td>0.025954</td>\n",
       "      <td>0.025960</td>\n",
       "    </tr>\n",
       "    <tr>\n",
       "      <th>2022-05-03 01:42:01+00</th>\n",
       "      <td>38510.880000</td>\n",
       "      <td>0.025967</td>\n",
       "      <td>0.025967</td>\n",
       "    </tr>\n",
       "  </tbody>\n",
       "</table>\n",
       "<p>2170 rows × 3 columns</p>\n",
       "</div>"
      ],
      "text/plain": [
       "                           price_btc  lump_sum       dca\n",
       "date                                                    \n",
       "2017-01-01 00:02:33+00    973.370000  1.027359  0.166591\n",
       "2017-01-02 00:06:51+00    992.960000  1.007090  0.166194\n",
       "2017-01-03 00:03:31+00   1011.520000  0.988611  0.165807\n",
       "2017-01-04 00:41:44+00   1020.690000  0.979729  0.165427\n",
       "2017-01-05 00:02:01+00   1131.100000  0.884095  0.165051\n",
       "...                              ...       ...       ...\n",
       "2022-04-30 02:12:54+00  38592.270000  0.025912  0.026079\n",
       "2022-05-01 01:36:58+00  37640.350000  0.026567  0.026121\n",
       "2022-05-02 01:27:44+00  38469.490000  0.025995  0.025972\n",
       "2022-05-03 01:28:47+00  38529.327801  0.025954  0.025960\n",
       "2022-05-03 01:42:01+00  38510.880000  0.025967  0.025967\n",
       "\n",
       "[2170 rows x 3 columns]"
      ]
     },
     "execution_count": 6,
     "metadata": {},
     "output_type": "execute_result"
    }
   ],
   "source": [
    "df"
   ]
  },
  {
   "cell_type": "code",
   "execution_count": 7,
   "id": "cedb2ded",
   "metadata": {},
   "outputs": [
    {
     "data": {
      "text/plain": [
       "0.8027649769585253"
      ]
     },
     "execution_count": 7,
     "metadata": {},
     "output_type": "execute_result"
    }
   ],
   "source": [
    "# How many times is the meadian return of Lump Sum strategy greater than the DCA strategy?\n",
    "df[df['lump_sum'] > df['dca']].index.size / df.index.size"
   ]
  },
  {
   "cell_type": "code",
   "execution_count": 8,
   "id": "e70a9b2c",
   "metadata": {},
   "outputs": [
    {
     "data": {
      "text/plain": [
       "<AxesSubplot:xlabel='date'>"
      ]
     },
     "execution_count": 8,
     "metadata": {},
     "output_type": "execute_result"
    },
    {
     "data": {
      "image/png": "[encoded data removed]",
      "text/plain": [
       "<Figure size 432x288 with 1 Axes>"
      ]
     },
     "metadata": {
      "needs_background": "light"
     },
     "output_type": "display_data"
    }
   ],
   "source": [
    "df['price_btc_adjusted'] = df['price_btc'] / 50000\n",
    "df[['price_btc_adjusted', 'lump_sum', 'dca']].plot()"
   ]
  },
  {
   "cell_type": "code",
   "execution_count": 10,
   "id": "21db5482",
   "metadata": {
    "scrolled": true
   },
   "outputs": [
    {
     "data": {
      "text/plain": [
       "<AxesSubplot:xlabel='date'>"
      ]
     },
     "execution_count": 10,
     "metadata": {},
     "output_type": "execute_result"
    },
    {
     "data": {
      "image/png": "[encoded data removed]",
      "text/plain": [
       "<Figure size 432x288 with 1 Axes>"
      ]
     },
     "metadata": {
      "needs_background": "light"
     },
     "output_type": "display_data"
    }
   ],
   "source": [
    "# Zooming in\n",
    "df[-600:][['lump_sum', 'dca']].plot()"
   ]
  }
 ],
 "metadata": {
  "jupytext": {
   "formats": "ipynb,md"
  },
  "kernelspec": {
   "display_name": "Python 3 (ipykernel)",
   "language": "python",
   "name": "python3"
  },
  "language_info": {
   "codemirror_mode": {
    "name": "ipython",
    "version": 3
   },
   "file_extension": ".py",
   "mimetype": "text/x-python",
   "name": "python",
   "nbconvert_exporter": "python",
   "pygments_lexer": "ipython3",
   "version": "3.7.10"
  }
 },
 "nbformat": 4,
 "nbformat_minor": 5
}
